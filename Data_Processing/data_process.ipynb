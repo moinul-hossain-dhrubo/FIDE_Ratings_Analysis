{
 "cells": [
  {
   "cell_type": "code",
   "execution_count": 1,
   "metadata": {},
   "outputs": [
    {
     "data": {
      "text/html": [
       "<div>\n",
       "<style scoped>\n",
       "    .dataframe tbody tr th:only-of-type {\n",
       "        vertical-align: middle;\n",
       "    }\n",
       "\n",
       "    .dataframe tbody tr th {\n",
       "        vertical-align: top;\n",
       "    }\n",
       "\n",
       "    .dataframe thead th {\n",
       "        text-align: right;\n",
       "    }\n",
       "</style>\n",
       "<table border=\"1\" class=\"dataframe\">\n",
       "  <thead>\n",
       "    <tr style=\"text-align: right;\">\n",
       "      <th></th>\n",
       "      <th>Name</th>\n",
       "      <th>Title</th>\n",
       "      <th>Country</th>\n",
       "      <th>Standard Rating</th>\n",
       "      <th>Rapid Rating</th>\n",
       "      <th>Blitz Rating</th>\n",
       "      <th>Birth Year</th>\n",
       "    </tr>\n",
       "  </thead>\n",
       "  <tbody>\n",
       "    <tr>\n",
       "      <th>0</th>\n",
       "      <td>Carlsen, Magnus</td>\n",
       "      <td>GM</td>\n",
       "      <td>NOR</td>\n",
       "      <td>2829.0</td>\n",
       "      <td>2818.0</td>\n",
       "      <td>2887.0</td>\n",
       "      <td>1990.0</td>\n",
       "    </tr>\n",
       "    <tr>\n",
       "      <th>1</th>\n",
       "      <td>Caruana, Fabiano</td>\n",
       "      <td>GM</td>\n",
       "      <td>USA</td>\n",
       "      <td>2795.0</td>\n",
       "      <td>2765.0</td>\n",
       "      <td>2813.0</td>\n",
       "      <td>1992.0</td>\n",
       "    </tr>\n",
       "    <tr>\n",
       "      <th>2</th>\n",
       "      <td>Ding, Liren</td>\n",
       "      <td>GM</td>\n",
       "      <td>CHN</td>\n",
       "      <td>2780.0</td>\n",
       "      <td>2830.0</td>\n",
       "      <td>2787.0</td>\n",
       "      <td>1992.0</td>\n",
       "    </tr>\n",
       "    <tr>\n",
       "      <th>3</th>\n",
       "      <td>Nakamura, Hikaru</td>\n",
       "      <td>GM</td>\n",
       "      <td>USA</td>\n",
       "      <td>2778.0</td>\n",
       "      <td>2731.0</td>\n",
       "      <td>2874.0</td>\n",
       "      <td>1987.0</td>\n",
       "    </tr>\n",
       "    <tr>\n",
       "      <th>4</th>\n",
       "      <td>Firouzja, Alireza</td>\n",
       "      <td>GM</td>\n",
       "      <td>FRA</td>\n",
       "      <td>2777.0</td>\n",
       "      <td>2742.0</td>\n",
       "      <td>2896.0</td>\n",
       "      <td>2003.0</td>\n",
       "    </tr>\n",
       "  </tbody>\n",
       "</table>\n",
       "</div>"
      ],
      "text/plain": [
       "                Name Title Country  Standard Rating  Rapid Rating  \\\n",
       "0    Carlsen, Magnus    GM     NOR           2829.0        2818.0   \n",
       "1   Caruana, Fabiano    GM     USA           2795.0        2765.0   \n",
       "2        Ding, Liren    GM     CHN           2780.0        2830.0   \n",
       "3   Nakamura, Hikaru    GM     USA           2778.0        2731.0   \n",
       "4  Firouzja, Alireza    GM     FRA           2777.0        2742.0   \n",
       "\n",
       "   Blitz Rating  Birth Year  \n",
       "0        2887.0      1990.0  \n",
       "1        2813.0      1992.0  \n",
       "2        2787.0      1992.0  \n",
       "3        2874.0      1987.0  \n",
       "4        2896.0      2003.0  "
      ]
     },
     "execution_count": 1,
     "metadata": {},
     "output_type": "execute_result"
    }
   ],
   "source": [
    "import pandas as pd\n",
    "\n",
    "#Reading csv files\n",
    "df_1 = pd.read_csv(\"Active Grandmasters.csv\")\n",
    "df_2 = pd.read_csv(\"Active International Masters.csv\")\n",
    "df_3 = pd.read_csv(\"Active Candidate Masters.csv\")\n",
    "\n",
    "# Concatenate the DataFrames\n",
    "df = pd.concat([df_1, df_2, df_3], ignore_index=True)\n",
    "\n",
    "df.head()"
   ]
  },
  {
   "cell_type": "code",
   "execution_count": 2,
   "metadata": {},
   "outputs": [
    {
     "name": "stdout",
     "output_type": "stream",
     "text": [
      "<class 'pandas.core.frame.DataFrame'>\n",
      "RangeIndex: 5007 entries, 0 to 5006\n",
      "Data columns (total 7 columns):\n",
      " #   Column           Non-Null Count  Dtype  \n",
      "---  ------           --------------  -----  \n",
      " 0   Name             4999 non-null   object \n",
      " 1   Title            4999 non-null   object \n",
      " 2   Country          4999 non-null   object \n",
      " 3   Standard Rating  4999 non-null   float64\n",
      " 4   Rapid Rating     4325 non-null   float64\n",
      " 5   Blitz Rating     4329 non-null   float64\n",
      " 6   Birth Year       4999 non-null   float64\n",
      "dtypes: float64(4), object(3)\n",
      "memory usage: 273.9+ KB\n"
     ]
    }
   ],
   "source": [
    "#checking info\n",
    "df.info()"
   ]
  },
  {
   "cell_type": "code",
   "execution_count": 3,
   "metadata": {},
   "outputs": [
    {
     "data": {
      "text/plain": [
       "Name                 8\n",
       "Title                8\n",
       "Country              8\n",
       "Standard Rating      8\n",
       "Rapid Rating       682\n",
       "Blitz Rating       678\n",
       "Birth Year           8\n",
       "dtype: int64"
      ]
     },
     "execution_count": 3,
     "metadata": {},
     "output_type": "execute_result"
    }
   ],
   "source": [
    "#checking null values\n",
    "df.isnull().sum()"
   ]
  },
  {
   "cell_type": "code",
   "execution_count": 4,
   "metadata": {},
   "outputs": [
    {
     "data": {
      "text/html": [
       "<div>\n",
       "<style scoped>\n",
       "    .dataframe tbody tr th:only-of-type {\n",
       "        vertical-align: middle;\n",
       "    }\n",
       "\n",
       "    .dataframe tbody tr th {\n",
       "        vertical-align: top;\n",
       "    }\n",
       "\n",
       "    .dataframe thead th {\n",
       "        text-align: right;\n",
       "    }\n",
       "</style>\n",
       "<table border=\"1\" class=\"dataframe\">\n",
       "  <thead>\n",
       "    <tr style=\"text-align: right;\">\n",
       "      <th></th>\n",
       "      <th>Name</th>\n",
       "      <th>Title</th>\n",
       "      <th>Country</th>\n",
       "      <th>Standard Rating</th>\n",
       "      <th>Rapid Rating</th>\n",
       "      <th>Blitz Rating</th>\n",
       "      <th>Birth Year</th>\n",
       "    </tr>\n",
       "  </thead>\n",
       "  <tbody>\n",
       "    <tr>\n",
       "      <th>4999</th>\n",
       "      <td>NaN</td>\n",
       "      <td>NaN</td>\n",
       "      <td>NaN</td>\n",
       "      <td>NaN</td>\n",
       "      <td>NaN</td>\n",
       "      <td>NaN</td>\n",
       "      <td>NaN</td>\n",
       "    </tr>\n",
       "    <tr>\n",
       "      <th>5000</th>\n",
       "      <td>NaN</td>\n",
       "      <td>NaN</td>\n",
       "      <td>NaN</td>\n",
       "      <td>NaN</td>\n",
       "      <td>NaN</td>\n",
       "      <td>NaN</td>\n",
       "      <td>NaN</td>\n",
       "    </tr>\n",
       "    <tr>\n",
       "      <th>5001</th>\n",
       "      <td>NaN</td>\n",
       "      <td>NaN</td>\n",
       "      <td>NaN</td>\n",
       "      <td>NaN</td>\n",
       "      <td>NaN</td>\n",
       "      <td>NaN</td>\n",
       "      <td>NaN</td>\n",
       "    </tr>\n",
       "    <tr>\n",
       "      <th>5002</th>\n",
       "      <td>NaN</td>\n",
       "      <td>NaN</td>\n",
       "      <td>NaN</td>\n",
       "      <td>NaN</td>\n",
       "      <td>NaN</td>\n",
       "      <td>NaN</td>\n",
       "      <td>NaN</td>\n",
       "    </tr>\n",
       "    <tr>\n",
       "      <th>5003</th>\n",
       "      <td>NaN</td>\n",
       "      <td>NaN</td>\n",
       "      <td>NaN</td>\n",
       "      <td>NaN</td>\n",
       "      <td>NaN</td>\n",
       "      <td>NaN</td>\n",
       "      <td>NaN</td>\n",
       "    </tr>\n",
       "    <tr>\n",
       "      <th>5004</th>\n",
       "      <td>NaN</td>\n",
       "      <td>NaN</td>\n",
       "      <td>NaN</td>\n",
       "      <td>NaN</td>\n",
       "      <td>NaN</td>\n",
       "      <td>NaN</td>\n",
       "      <td>NaN</td>\n",
       "    </tr>\n",
       "    <tr>\n",
       "      <th>5005</th>\n",
       "      <td>NaN</td>\n",
       "      <td>NaN</td>\n",
       "      <td>NaN</td>\n",
       "      <td>NaN</td>\n",
       "      <td>NaN</td>\n",
       "      <td>NaN</td>\n",
       "      <td>NaN</td>\n",
       "    </tr>\n",
       "    <tr>\n",
       "      <th>5006</th>\n",
       "      <td>NaN</td>\n",
       "      <td>NaN</td>\n",
       "      <td>NaN</td>\n",
       "      <td>NaN</td>\n",
       "      <td>NaN</td>\n",
       "      <td>NaN</td>\n",
       "      <td>NaN</td>\n",
       "    </tr>\n",
       "  </tbody>\n",
       "</table>\n",
       "</div>"
      ],
      "text/plain": [
       "     Name Title Country  Standard Rating  Rapid Rating  Blitz Rating  \\\n",
       "4999  NaN   NaN     NaN              NaN           NaN           NaN   \n",
       "5000  NaN   NaN     NaN              NaN           NaN           NaN   \n",
       "5001  NaN   NaN     NaN              NaN           NaN           NaN   \n",
       "5002  NaN   NaN     NaN              NaN           NaN           NaN   \n",
       "5003  NaN   NaN     NaN              NaN           NaN           NaN   \n",
       "5004  NaN   NaN     NaN              NaN           NaN           NaN   \n",
       "5005  NaN   NaN     NaN              NaN           NaN           NaN   \n",
       "5006  NaN   NaN     NaN              NaN           NaN           NaN   \n",
       "\n",
       "      Birth Year  \n",
       "4999         NaN  \n",
       "5000         NaN  \n",
       "5001         NaN  \n",
       "5002         NaN  \n",
       "5003         NaN  \n",
       "5004         NaN  \n",
       "5005         NaN  \n",
       "5006         NaN  "
      ]
     },
     "execution_count": 4,
     "metadata": {},
     "output_type": "execute_result"
    }
   ],
   "source": [
    "#checking rows that contains null values\n",
    "df[df['Name'].isnull()]"
   ]
  },
  {
   "cell_type": "code",
   "execution_count": 6,
   "metadata": {},
   "outputs": [
    {
     "data": {
      "text/plain": [
       "Name                 0\n",
       "Title                0\n",
       "Country              0\n",
       "Standard Rating      0\n",
       "Rapid Rating       674\n",
       "Blitz Rating       670\n",
       "Birth Year           0\n",
       "dtype: int64"
      ]
     },
     "execution_count": 6,
     "metadata": {},
     "output_type": "execute_result"
    }
   ],
   "source": [
    "# Drop rows with missing 'Name' values\n",
    "df = df.dropna(subset=['Name'])\n",
    "\n",
    "df.isnull().sum()"
   ]
  },
  {
   "cell_type": "markdown",
   "metadata": {},
   "source": [
    "Adding 'Age' Column"
   ]
  },
  {
   "cell_type": "code",
   "execution_count": 7,
   "metadata": {},
   "outputs": [
    {
     "data": {
      "text/html": [
       "<div>\n",
       "<style scoped>\n",
       "    .dataframe tbody tr th:only-of-type {\n",
       "        vertical-align: middle;\n",
       "    }\n",
       "\n",
       "    .dataframe tbody tr th {\n",
       "        vertical-align: top;\n",
       "    }\n",
       "\n",
       "    .dataframe thead th {\n",
       "        text-align: right;\n",
       "    }\n",
       "</style>\n",
       "<table border=\"1\" class=\"dataframe\">\n",
       "  <thead>\n",
       "    <tr style=\"text-align: right;\">\n",
       "      <th></th>\n",
       "      <th>Name</th>\n",
       "      <th>Title</th>\n",
       "      <th>Country</th>\n",
       "      <th>Standard Rating</th>\n",
       "      <th>Rapid Rating</th>\n",
       "      <th>Blitz Rating</th>\n",
       "      <th>Birth Year</th>\n",
       "      <th>Age</th>\n",
       "    </tr>\n",
       "  </thead>\n",
       "  <tbody>\n",
       "    <tr>\n",
       "      <th>0</th>\n",
       "      <td>Carlsen, Magnus</td>\n",
       "      <td>GM</td>\n",
       "      <td>NOR</td>\n",
       "      <td>2829.0</td>\n",
       "      <td>2818.0</td>\n",
       "      <td>2887.0</td>\n",
       "      <td>1990.0</td>\n",
       "      <td>33.0</td>\n",
       "    </tr>\n",
       "    <tr>\n",
       "      <th>1</th>\n",
       "      <td>Caruana, Fabiano</td>\n",
       "      <td>GM</td>\n",
       "      <td>USA</td>\n",
       "      <td>2795.0</td>\n",
       "      <td>2765.0</td>\n",
       "      <td>2813.0</td>\n",
       "      <td>1992.0</td>\n",
       "      <td>31.0</td>\n",
       "    </tr>\n",
       "  </tbody>\n",
       "</table>\n",
       "</div>"
      ],
      "text/plain": [
       "               Name Title Country  Standard Rating  Rapid Rating  \\\n",
       "0   Carlsen, Magnus    GM     NOR           2829.0        2818.0   \n",
       "1  Caruana, Fabiano    GM     USA           2795.0        2765.0   \n",
       "\n",
       "   Blitz Rating  Birth Year   Age  \n",
       "0        2887.0      1990.0  33.0  \n",
       "1        2813.0      1992.0  31.0  "
      ]
     },
     "execution_count": 7,
     "metadata": {},
     "output_type": "execute_result"
    }
   ],
   "source": [
    "# Assume the current year is 2023\n",
    "current_year = 2023\n",
    "# Calculate age and create a new 'Age' column\n",
    "df['Age'] = current_year - df['Birth Year']\n",
    "df.head(2)"
   ]
  },
  {
   "cell_type": "code",
   "execution_count": 9,
   "metadata": {},
   "outputs": [
    {
     "data": {
      "text/html": [
       "<div>\n",
       "<style scoped>\n",
       "    .dataframe tbody tr th:only-of-type {\n",
       "        vertical-align: middle;\n",
       "    }\n",
       "\n",
       "    .dataframe tbody tr th {\n",
       "        vertical-align: top;\n",
       "    }\n",
       "\n",
       "    .dataframe thead th {\n",
       "        text-align: right;\n",
       "    }\n",
       "</style>\n",
       "<table border=\"1\" class=\"dataframe\">\n",
       "  <thead>\n",
       "    <tr style=\"text-align: right;\">\n",
       "      <th></th>\n",
       "      <th>count</th>\n",
       "      <th>mean</th>\n",
       "      <th>std</th>\n",
       "      <th>min</th>\n",
       "      <th>25%</th>\n",
       "      <th>50%</th>\n",
       "      <th>75%</th>\n",
       "      <th>max</th>\n",
       "    </tr>\n",
       "  </thead>\n",
       "  <tbody>\n",
       "    <tr>\n",
       "      <th>Standard Rating</th>\n",
       "      <td>4999.0</td>\n",
       "      <td>2292.383077</td>\n",
       "      <td>213.007134</td>\n",
       "      <td>1357.0</td>\n",
       "      <td>2169.0</td>\n",
       "      <td>2337.0</td>\n",
       "      <td>2437.0</td>\n",
       "      <td>2829.0</td>\n",
       "    </tr>\n",
       "    <tr>\n",
       "      <th>Rapid Rating</th>\n",
       "      <td>4325.0</td>\n",
       "      <td>2275.004855</td>\n",
       "      <td>216.680287</td>\n",
       "      <td>1269.0</td>\n",
       "      <td>2145.0</td>\n",
       "      <td>2318.0</td>\n",
       "      <td>2422.0</td>\n",
       "      <td>2830.0</td>\n",
       "    </tr>\n",
       "    <tr>\n",
       "      <th>Blitz Rating</th>\n",
       "      <td>4329.0</td>\n",
       "      <td>2270.340032</td>\n",
       "      <td>219.755359</td>\n",
       "      <td>1280.0</td>\n",
       "      <td>2137.0</td>\n",
       "      <td>2309.0</td>\n",
       "      <td>2420.0</td>\n",
       "      <td>2896.0</td>\n",
       "    </tr>\n",
       "    <tr>\n",
       "      <th>Birth Year</th>\n",
       "      <td>4999.0</td>\n",
       "      <td>1981.179036</td>\n",
       "      <td>51.213913</td>\n",
       "      <td>0.0</td>\n",
       "      <td>1970.0</td>\n",
       "      <td>1984.0</td>\n",
       "      <td>1996.0</td>\n",
       "      <td>2014.0</td>\n",
       "    </tr>\n",
       "    <tr>\n",
       "      <th>Age</th>\n",
       "      <td>4999.0</td>\n",
       "      <td>41.820964</td>\n",
       "      <td>51.213913</td>\n",
       "      <td>9.0</td>\n",
       "      <td>27.0</td>\n",
       "      <td>39.0</td>\n",
       "      <td>53.0</td>\n",
       "      <td>2023.0</td>\n",
       "    </tr>\n",
       "  </tbody>\n",
       "</table>\n",
       "</div>"
      ],
      "text/plain": [
       "                  count         mean         std     min     25%     50%  \\\n",
       "Standard Rating  4999.0  2292.383077  213.007134  1357.0  2169.0  2337.0   \n",
       "Rapid Rating     4325.0  2275.004855  216.680287  1269.0  2145.0  2318.0   \n",
       "Blitz Rating     4329.0  2270.340032  219.755359  1280.0  2137.0  2309.0   \n",
       "Birth Year       4999.0  1981.179036   51.213913     0.0  1970.0  1984.0   \n",
       "Age              4999.0    41.820964   51.213913     9.0    27.0    39.0   \n",
       "\n",
       "                    75%     max  \n",
       "Standard Rating  2437.0  2829.0  \n",
       "Rapid Rating     2422.0  2830.0  \n",
       "Blitz Rating     2420.0  2896.0  \n",
       "Birth Year       1996.0  2014.0  \n",
       "Age                53.0  2023.0  "
      ]
     },
     "execution_count": 9,
     "metadata": {},
     "output_type": "execute_result"
    }
   ],
   "source": [
    "#checking statistical summary\n",
    "df.describe().T"
   ]
  },
  {
   "cell_type": "code",
   "execution_count": 19,
   "metadata": {},
   "outputs": [
    {
     "data": {
      "text/html": [
       "<div>\n",
       "<style scoped>\n",
       "    .dataframe tbody tr th:only-of-type {\n",
       "        vertical-align: middle;\n",
       "    }\n",
       "\n",
       "    .dataframe tbody tr th {\n",
       "        vertical-align: top;\n",
       "    }\n",
       "\n",
       "    .dataframe thead th {\n",
       "        text-align: right;\n",
       "    }\n",
       "</style>\n",
       "<table border=\"1\" class=\"dataframe\">\n",
       "  <thead>\n",
       "    <tr style=\"text-align: right;\">\n",
       "      <th></th>\n",
       "      <th>count</th>\n",
       "      <th>mean</th>\n",
       "      <th>std</th>\n",
       "      <th>min</th>\n",
       "      <th>25%</th>\n",
       "      <th>50%</th>\n",
       "      <th>75%</th>\n",
       "      <th>max</th>\n",
       "    </tr>\n",
       "  </thead>\n",
       "  <tbody>\n",
       "    <tr>\n",
       "      <th>Standard Rating</th>\n",
       "      <td>4996.0</td>\n",
       "      <td>2292.435949</td>\n",
       "      <td>213.050117</td>\n",
       "      <td>1357.0</td>\n",
       "      <td>2169.00</td>\n",
       "      <td>2337.0</td>\n",
       "      <td>2437.0</td>\n",
       "      <td>2829.0</td>\n",
       "    </tr>\n",
       "    <tr>\n",
       "      <th>Rapid Rating</th>\n",
       "      <td>4322.0</td>\n",
       "      <td>2275.063165</td>\n",
       "      <td>216.742231</td>\n",
       "      <td>1269.0</td>\n",
       "      <td>2144.25</td>\n",
       "      <td>2319.0</td>\n",
       "      <td>2422.0</td>\n",
       "      <td>2830.0</td>\n",
       "    </tr>\n",
       "    <tr>\n",
       "      <th>Blitz Rating</th>\n",
       "      <td>4327.0</td>\n",
       "      <td>2270.315692</td>\n",
       "      <td>219.803028</td>\n",
       "      <td>1280.0</td>\n",
       "      <td>2137.00</td>\n",
       "      <td>2309.0</td>\n",
       "      <td>2420.0</td>\n",
       "      <td>2896.0</td>\n",
       "    </tr>\n",
       "    <tr>\n",
       "      <th>Birth Year</th>\n",
       "      <td>4996.0</td>\n",
       "      <td>1982.368695</td>\n",
       "      <td>16.298006</td>\n",
       "      <td>1931.0</td>\n",
       "      <td>1970.00</td>\n",
       "      <td>1984.0</td>\n",
       "      <td>1996.0</td>\n",
       "      <td>2014.0</td>\n",
       "    </tr>\n",
       "    <tr>\n",
       "      <th>Age</th>\n",
       "      <td>4996.0</td>\n",
       "      <td>40.631305</td>\n",
       "      <td>16.298006</td>\n",
       "      <td>9.0</td>\n",
       "      <td>27.00</td>\n",
       "      <td>39.0</td>\n",
       "      <td>53.0</td>\n",
       "      <td>92.0</td>\n",
       "    </tr>\n",
       "  </tbody>\n",
       "</table>\n",
       "</div>"
      ],
      "text/plain": [
       "                  count         mean         std     min      25%     50%  \\\n",
       "Standard Rating  4996.0  2292.435949  213.050117  1357.0  2169.00  2337.0   \n",
       "Rapid Rating     4322.0  2275.063165  216.742231  1269.0  2144.25  2319.0   \n",
       "Blitz Rating     4327.0  2270.315692  219.803028  1280.0  2137.00  2309.0   \n",
       "Birth Year       4996.0  1982.368695   16.298006  1931.0  1970.00  1984.0   \n",
       "Age              4996.0    40.631305   16.298006     9.0    27.00    39.0   \n",
       "\n",
       "                    75%     max  \n",
       "Standard Rating  2437.0  2829.0  \n",
       "Rapid Rating     2422.0  2830.0  \n",
       "Blitz Rating     2420.0  2896.0  \n",
       "Birth Year       1996.0  2014.0  \n",
       "Age                53.0    92.0  "
      ]
     },
     "execution_count": 19,
     "metadata": {},
     "output_type": "execute_result"
    }
   ],
   "source": [
    "# dropping unrealistic age\n",
    "df_cleaned = df[df['Age'] <= 100]\n",
    "\n",
    "df_cleaned.describe().T"
   ]
  },
  {
   "cell_type": "code",
   "execution_count": 13,
   "metadata": {},
   "outputs": [
    {
     "data": {
      "text/plain": [
       "Title\n",
       "IM        2204\n",
       "CM        1376\n",
       "GM        1282\n",
       "IM WGM      97\n",
       "GM WGM      29\n",
       "CM WFM       5\n",
       "IM WIM       1\n",
       "CM WCM       1\n",
       "CM WIM       1\n",
       "Name: count, dtype: int64"
      ]
     },
     "execution_count": 13,
     "metadata": {},
     "output_type": "execute_result"
    }
   ],
   "source": [
    "#checking unique values of the title column\n",
    "df_cleaned.Title.value_counts()"
   ]
  },
  {
   "cell_type": "code",
   "execution_count": 14,
   "metadata": {},
   "outputs": [],
   "source": [
    "# Manipulating title column\n",
    "\n",
    "df_cleaned['Title'] = df_cleaned['Title'].replace({'GM WGM': 'GM', 'IM WGM': 'IM', 'CM WFM': 'CM', 'IM WIM': 'IM', 'CM WCM': 'CM', 'CM WIM': 'CM'})"
   ]
  },
  {
   "cell_type": "code",
   "execution_count": 15,
   "metadata": {},
   "outputs": [
    {
     "data": {
      "text/plain": [
       "Title\n",
       "IM    2302\n",
       "CM    1383\n",
       "GM    1311\n",
       "Name: count, dtype: int64"
      ]
     },
     "execution_count": 15,
     "metadata": {},
     "output_type": "execute_result"
    }
   ],
   "source": [
    "df_cleaned.Title.value_counts()"
   ]
  },
  {
   "cell_type": "code",
   "execution_count": 17,
   "metadata": {},
   "outputs": [
    {
     "data": {
      "text/plain": [
       "(4996, 8)"
      ]
     },
     "execution_count": 17,
     "metadata": {},
     "output_type": "execute_result"
    }
   ],
   "source": [
    "df_cleaned.shape"
   ]
  },
  {
   "cell_type": "code",
   "execution_count": 16,
   "metadata": {},
   "outputs": [
    {
     "name": "stdout",
     "output_type": "stream",
     "text": [
      "Data has been saved to fide_active_players_2023.csv\n"
     ]
    }
   ],
   "source": [
    "# Specify the name of the CSV file\n",
    "output_file = \"fide_active_players_2023.csv\"\n",
    "\n",
    "# Save the cleaned DataFrame to a CSV file\n",
    "df.to_csv(output_file, index=False)\n",
    "\n",
    "print(f\"Data has been saved to {output_file}\")"
   ]
  }
 ],
 "metadata": {
  "kernelspec": {
   "display_name": "venv",
   "language": "python",
   "name": "python3"
  },
  "language_info": {
   "codemirror_mode": {
    "name": "ipython",
    "version": 3
   },
   "file_extension": ".py",
   "mimetype": "text/x-python",
   "name": "python",
   "nbconvert_exporter": "python",
   "pygments_lexer": "ipython3",
   "version": "3.12.0"
  }
 },
 "nbformat": 4,
 "nbformat_minor": 2
}
